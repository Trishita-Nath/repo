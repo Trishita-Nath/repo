{
 "cells": [
  {
   "cell_type": "markdown",
   "metadata": {},
   "source": [
    "## IS362 week14 discussion"
   ]
  },
  {
   "cell_type": "raw",
   "metadata": {},
   "source": [
    "Senario design for Uber Eats:\n",
    "\n\n",
    "1) Who are your target uses? The target uses are the individuals who order food online and get it delivered.\n",
    "\n\n",
    "2) What are their key goals? Key goal of the users is to order the food of their choice and get it delivered within minutes.\n",
    "\n\n",
    "3) How can you help them accomplish those goals? We can achieve these goals by providing different food options avaliable at user location. Marketing messages through messages, emails and advertisements have to be sent to users to make them aware of all the latest options avaliable. Users will be provided with discount coupons to attract them to place the order. Once the users orders the item, releavant recommendations will be shown to user whenever user logs in.\n",
    "\n\n",
    "Second Senario Design: If Uber eats is not providing preoper delivery food in scheduled time then users may stop ordering food through it. Uber eats also have to keep an eye on the restuarants with which it has tie up. If the quality of the food is not good users may loose belief in the application itself.\n",
    "\n\n",
    "Reverse Engineering: Uber Eats have to keep an eye on the users feedback. Once the user orders and get the food delivered, user has to given a message to rate the food. If overall ratings are good for a particular resturant, then Uber can show it on the home page with the over all ratings. In the same way if a resturant gets a bad rating very frequently, then Uber has to end the partnership with such type of restuarants in order to maintain the quality. Uber eats not only depend on the customers who order food, it also depends on the drivers who deliver the food. If they dont deliver on time then the ratings for Uber may go down, so its important to keep track of delivery timings and progress of all drivers.\n",
    "\n\n",
    "Recommendations: Uber Eats is in its growing phase and its improving day by day. Recommendations can be improved by displaying the images of the food items rather than just displaying the name of the dishes.\n",
    "\n"
   ]
  },
  {
   "cell_type": "code",
   "execution_count": null,
   "metadata": {},
   "outputs": [],
   "source": []
  }
 ],
 "metadata": {
  "kernelspec": {
   "display_name": "Python 3",
   "language": "python",
   "name": "python3"
  },
  "language_info": {
   "codemirror_mode": {
    "name": "ipython",
    "version": 3
   },
   "file_extension": ".py",
   "mimetype": "text/x-python",
   "name": "python",
   "nbconvert_exporter": "python",
   "pygments_lexer": "ipython3",
   "version": "3.6.6"
  }
 },
 "nbformat": 4,
 "nbformat_minor": 2
}
