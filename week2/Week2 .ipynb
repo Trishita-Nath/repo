{
 "cells": [
  {
   "cell_type": "markdown",
   "metadata": {},
   "source": [
    "# Week 2 Assignment - Usage of zip() function"
   ]
  },
  {
   "cell_type": "code",
   "execution_count": 1,
   "metadata": {},
   "outputs": [],
   "source": [
    "import numpy as np"
   ]
  },
  {
   "cell_type": "code",
   "execution_count": 2,
   "metadata": {},
   "outputs": [
    {
     "name": "stdout",
     "output_type": "stream",
     "text": [
      "[10, 5, 1, 35, 50, 25] [9, 2, 7, 11, 6, 19]\n"
     ]
    }
   ],
   "source": [
    "first = [10,5,1,35,50,25]\n",
    "second = [9,2,7,11,6,19]\n",
    "print (first,second)"
   ]
  },
  {
   "cell_type": "markdown",
   "metadata": {},
   "source": [
    "## Now sorting the tuples "
   ]
  },
  {
   "cell_type": "code",
   "execution_count": 4,
   "metadata": {},
   "outputs": [
    {
     "name": "stdout",
     "output_type": "stream",
     "text": [
      "[ 1  5 10 25 35 50] [ 2  6  7  9 11 19]\n"
     ]
    }
   ],
   "source": [
    "sortedFirst = np.sort(first)\n",
    "sortedSecond = np.sort(second)\n",
    "print (sortedFirst,sortedSecond)"
   ]
  },
  {
   "cell_type": "markdown",
   "metadata": {},
   "source": [
    "## Now zip them together to make a single tuples."
   ]
  },
  {
   "cell_type": "code",
   "execution_count": 5,
   "metadata": {},
   "outputs": [
    {
     "name": "stdout",
     "output_type": "stream",
     "text": [
      "[(1, 2), (5, 6), (10, 7), (25, 9), (35, 11), (50, 19)]\n"
     ]
    }
   ],
   "source": [
    "zipResult = list(zip(sortedFirst, sortedSecond))\n",
    "print(zipResult)"
   ]
  }
 ],
 "metadata": {
  "kernelspec": {
   "display_name": "Python 3",
   "language": "python",
   "name": "python3"
  },
  "language_info": {
   "codemirror_mode": {
    "name": "ipython",
    "version": 3
   },
   "file_extension": ".py",
   "mimetype": "text/x-python",
   "name": "python",
   "nbconvert_exporter": "python",
   "pygments_lexer": "ipython3",
   "version": "3.6.5"
  }
 },
 "nbformat": 4,
 "nbformat_minor": 2
}
